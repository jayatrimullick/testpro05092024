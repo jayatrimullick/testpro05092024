{
 "cells": [
  {
   "cell_type": "code",
   "execution_count": null,
   "id": "51ab1921-57e5-4d10-8416-be2ad88d6d71",
   "metadata": {},
   "outputs": [],
   "source": [
    "#abc"
   ]
  }
 ],
 "metadata": {
  "kernelspec": {
   "display_name": "Python 3 (ipykernel)",
   "language": "python",
   "name": "python3"
  },
  "language_info": {
   "codemirror_mode": {
    "name": "ipython",
    "version": 3
   },
   "file_extension": ".py",
   "mimetype": "text/x-python",
   "name": "python",
   "nbconvert_exporter": "python",
   "pygments_lexer": "ipython3",
   "version": "3.10.8"
  }
 },
 "nbformat": 4,
 "nbformat_minor": 5
}
